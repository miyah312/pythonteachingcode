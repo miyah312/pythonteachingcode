{
 "cells": [
  {
   "cell_type": "markdown",
   "metadata": {},
   "source": [
    "# Module 3 Practice 1\n",
    "## Conditionals \n",
    "<font size=\"5\" color=\"#00A0B2\"  face=\"verdana\"> <B>Student will be able to</B></font>  \n",
    "- **control code flow with `if`... `else` conditional logic**  \n",
    "  - using Boolean string methods (`.isupper(), .isalpha(), .startswith()...`)  \n",
    "  - using comparision (`>, <, >=, <=, ==, !=`)  \n",
    "  - using Strings in comparisons  \n",
    "\n",
    "## `if else`\n"
   ]
  },
  {
   "cell_type": "code",
   "execution_count": 1,
   "metadata": {},
   "outputs": [
    {
     "name": "stdout",
     "output_type": "stream",
     "text": [
      "Input your age (use only whole numbers): 7\n",
      "Age's first type is:  <class 'int'>\n",
      "Age's second type is:  <class 'int'>\n",
      "It is good to be 7.\n"
     ]
    }
   ],
   "source": [
    "# [ ] input a variable: age as digit and cast to int\n",
    "# if age greater than or equal to 12 then print message on age in 10 years \n",
    "# or else print message \"It is good to be\" age\n",
    "age = int(input(\"Input your age (use only whole numbers): \"))\n",
    "print(\"Age's first type is: \",type(age))\n",
    "age = int(age)\n",
    "print(\"Age's second type is: \",type(age))\n",
    "\n",
    "if age >= 12:\n",
    "    print(\"In ten years you will be \"+str(age+10)+\".\")\n",
    "else:\n",
    "    print(\"It is good to be \"+str(age)+\".\")\n",
    "\n",
    "\n",
    "\n"
   ]
  },
  {
   "cell_type": "code",
   "execution_count": null,
   "metadata": {},
   "outputs": [],
   "source": [
    "# [ ] input a number \n",
    "num = (input(\"Input a number: \"))\n",
    "# if number IS a digit string then cast to int\n",
    "if num.isdigit():\n",
    "    num = int(num)\n",
    "else: print(\"Is not a digit\")\n",
    "# print number \"greater than 100 is\" True/False\n",
    "if num > 100:\n",
    "    print(num , \"is greater than 100, TRUE\")\n",
    "else:\n",
    "    print(num, \"is less than 100, FALSE\")\n",
    "# if number is NOT a digit string then message the user that \"only int is accepted\"\n",
    "if num():\n",
    "    print(\"this is an int\")\n",
    "else:\n",
    "    print(\"only int is accepted\")\n"
   ]
  },
  {
   "cell_type": "markdown",
   "metadata": {},
   "source": [
    "### Guessing a letter A-Z  \n",
    "**check_guess()** takes 2 string arguments: **letter and guess** (both expect single alphabetical character)   \n",
    "    - if guess is not an alpha character print invalid and return False\n",
    "    - test and print if guess is \"high\" or \"low\" and return False\n",
    "    - test and print if guess is \"correct\" and return True"
   ]
  },
  {
   "cell_type": "code",
   "execution_count": null,
   "metadata": {},
   "outputs": [],
   "source": [
    "# [ ] create check_guess()\n",
    "def check_guess(letter, guess):\n",
    "# call with test\n",
    "if check_guess.isalpha():\n",
    "    print(\"This is a aplha character\")\n",
    "    if user_guess == letter:\n",
    "        elif user_guess > letter:\n",
    "            print(user_guess , \"is too high\")\n",
    "        elif user_guess < letter:\n",
    "            print((user_guess) , \"is too low\")\n",
    "else:\n",
    "    print(\"False\")\n"
   ]
  },
  {
   "cell_type": "code",
   "execution_count": null,
   "metadata": {},
   "outputs": [],
   "source": [
    "# [ ] call check_guess with user input\n",
    "letter = (input(\"Enter a letter\"))\n",
    "guess = (input(\"Enter a guess\"))\n",
    "\n",
    "check_guess(letter, guess)\n"
   ]
  },
  {
   "cell_type": "markdown",
   "metadata": {},
   "source": [
    "### Letter Guess\n",
    "**create letter_guess() function that gives user 3 guesses**\n",
    "- takes a letter character argument for the answer letter\n",
    "- gets user input for letter guess  \n",
    "- calls check_guess() with answer and guess\n",
    "- End letter_guess if \n",
    "    - check_guess() equals True, return True  \n",
    "    - or after 3 failed attempts, return False"
   ]
  },
  {
   "cell_type": "code",
   "execution_count": null,
   "metadata": {},
   "outputs": [],
   "source": [
    "# [ ] create letter_guess() function, call the function to test\n",
    "def letter_guess(a_letter, a_guess)\n",
    "a_letter = input(\"enter a character: \")\n",
    "\n",
    "def check_guess(answer, guess)\n",
    "if letter_guess == True:\n",
    "    return(True)\n",
    "else:\n",
    "    print(\"Did not guess in 3 attempts\")\n",
    "    return(False)\n",
    "\n",
    "\n"
   ]
  },
  {
   "cell_type": "markdown",
   "metadata": {},
   "source": [
    "### Pet Conversation\n",
    "**ask the user for a sentence about a pet and then reply**  \n",
    "- get user input in variable: about_pet\n",
    "- using a series of **if** statements respond with appropriate conversation\n",
    "  - check if \"dog\" is in the string about_pet (sample reply \"Ah, a dog\")\n",
    "  - check if \"cat\" is in the string about_pet\n",
    "  - check if 1 or more animal is in string about_pet\n",
    "- no need for **else**'s\n",
    "- finish with thanking for the story"
   ]
  },
  {
   "cell_type": "code",
   "execution_count": null,
   "metadata": {},
   "outputs": [],
   "source": [
    "# [ ] complete pet conversation\n",
    "about_pet = input(\"Enter statement about your pet: \")\n",
    "if \"dog\" in about_pet\n",
    "print(\"Nice! I have a dog too!\")\n",
    "print(\"Thank you for the story!\")\n",
    "    elif \"cat\" in about_pet \n",
    "    print(\"Awwww, cats are so cute!!\")\n",
    "    print(\"Thank you for the story!\")\n",
    "    elif \"bird\" in about_pet \n",
    "    print(\"Can your bird talk?\")\n",
    "    print(\"Thank you for the story!\")\n"
   ]
  },
  {
   "cell_type": "markdown",
   "metadata": {},
   "source": [
    "# Module 3 Practice 2\n",
    "## conditionals, type, and mathematics extended   \n",
    "&nbsp;\n",
    "<font size=\"5\" color=\"#00A0B2\"  face=\"verdana\"> <B>Student will be able to</B></font>  \n",
    "- code more than two choices using **`elif`** \n",
    "- gather numeric input using type casting  \n",
    "- perform subtraction, multiplication and division operations in code  &nbsp;  \n"
   ]
  },
  {
   "cell_type": "markdown",
   "metadata": {},
   "source": [
    "# &nbsp;  \n",
    "<font size=\"6\" color=\"#B24C00\"  face=\"verdana\"> <B>Tasks</B></font>"
   ]
  },
  {
   "cell_type": "markdown",
   "metadata": {},
   "source": [
    "### Rainbow colors\n",
    "ask for input of a favorite rainbow color first letter: ROYGBIV  \n",
    "\n",
    "Using `if`, `elif`, and `else`:  \n",
    "- print the color matching the letter  \n",
    "    - R = Red  \n",
    "    - O = Orange  \n",
    "    - Y = Yellow  \n",
    "    - G = Green\n",
    "    - B = Blue\n",
    "    - I = Indigo\n",
    "    - V = Violet\n",
    "    - else print \"no match\"\n"
   ]
  },
  {
   "cell_type": "code",
   "execution_count": null,
   "metadata": {},
   "outputs": [],
   "source": [
    "# [ ] complete rainbow colors\n",
    "fav_color = input(\"Enter fav color using first letter only, ROYBGIV: \")\n",
    "if fav_color == \"R\":\n",
    "    print(\"Red\")\n",
    "    elif fav_color == \"O\":\n",
    "    print(\"Orange\")\n",
    "    if fav_color == \"Y\":\n",
    "    print(\"Yellow\")\n",
    "    elif fav_color == \"G\":\n",
    "    print(\"Green\")\n",
    "    elif fav_color == \"B\":\n",
    "    print(\"Blue\")\n",
    "    elif fav_color == \"I\":\n",
    "    print(\"Indigo\")\n",
    "    elif fav_color == \"V\":\n",
    "    print(\"Violet\")\n",
    "    else:\n",
    "        print(\"no match\")\n"
   ]
  },
  {
   "cell_type": "code",
   "execution_count": 1,
   "metadata": {},
   "outputs": [],
   "source": [
    "# [ ] make the code above into a function rainbow_color() that has a string parameter, \n",
    "def rainbow_color(color):\n",
    "# get input and call the function and return the matching color as a string or \"no match\" message.\n",
    "fav_rainbow_color = input(\"Enter your fav rainbow color: \")\n",
    "print(\"Red\")\n",
    "    elif fav_color == \"O\":\n",
    "    print(\"Orange\")\n",
    "    if fav_color == \"Y\":\n",
    "    print(\"Yellow\")\n",
    "    elif fav_color == \"G\":\n",
    "    print(\"Green\")\n",
    "    elif fav_color == \"B\":\n",
    "    print(\"Blue\")\n",
    "    elif fav_color == \"I\":\n",
    "    print(\"Indigo\")\n",
    "    elif fav_color == \"V\":\n",
    "    print(\"Violet\")\n",
    "    else:\n",
    "        print(\"no match\")\n",
    "# Call the function and print the return string.\n",
    "rainbow_color()\n"
   ]
  },
  {
   "cell_type": "markdown",
   "metadata": {},
   "source": [
    "# &nbsp;  \n",
    "**Create function age_20() that adds or subtracts 20 from your age for a return value based on current age** (use `if`) \n",
    "- call the funtion with user input and then use the return value in a sentence  \n",
    "example `age_20(25)` returns **5**: \n",
    "> \"5 years old, 20 years difference from now\""
   ]
  },
  {
   "cell_type": "code",
   "execution_count": null,
   "metadata": {},
   "outputs": [],
   "source": [
    "# [ ] complete age_20()\n",
    "def age_20(age)\n",
    "add_age = age + 20\n",
    "sub_age = age - 20\n",
    "\n",
    "if add_age>0\n",
    "return add_age\n",
    "elif sub_age>0\n",
    "return sub_age\n",
    "else:\n",
    "    print(\"Invalid input\")\n",
    "    \n",
    "    print(age_20(-30) ,\"years old, 20 years difference from now\")\n",
    "\n"
   ]
  },
  {
   "cell_type": "markdown",
   "metadata": {},
   "source": [
    "**create a function rainbow_or_age that takes a string argument**\n",
    "- if argument is a digit return the value of calling age_20() with the str value cast as **`int`** \n",
    "- if argument is an alphabetical character return the value of calling rainbow_color() with the str\n",
    "- if neither return FALSE"
   ]
  },
  {
   "cell_type": "code",
   "execution_count": null,
   "metadata": {},
   "outputs": [],
   "source": [
    "# [ ]  create rainbow_or_age()\n",
    "def rainbow_or_age()\n"
   ]
  },
  {
   "cell_type": "code",
   "execution_count": null,
   "metadata": {},
   "outputs": [],
   "source": [
    "# [ ]  add 2 numbers from input using a cast to integer and display the answer \n",
    "num = input(\"enter a number\")\n",
    "num_2 = input(\"enter a second number\")\n",
    "sum = int(num) + int(num_2)\n",
    "print(sum)\n"
   ]
  },
  {
   "cell_type": "code",
   "execution_count": null,
   "metadata": {},
   "outputs": [],
   "source": [
    "# [ ] Multiply 2 numbers from input using cast and save the answer as part of a string \"the answer is...\"\n",
    "num = input(\"enter a number\")\n",
    "num_2 = input(\"enter a second number\")\n",
    "product = int(num) * int(num_2)\n",
    "# display the string using print\n",
    "print(\"the answer is\",product)"
   ]
  },
  {
   "cell_type": "code",
   "execution_count": null,
   "metadata": {},
   "outputs": [],
   "source": [
    "# [ ] get input of 2 numbers and display the average: (num1 + num2) divided by 2\n",
    "num = input(\"enter a number\")\n",
    "num_2 = input(\"enter a second number\")\n",
    "average = (int(num) + int(num_2)) / 2\n",
    "print(average)"
   ]
  },
  {
   "cell_type": "code",
   "execution_count": null,
   "metadata": {},
   "outputs": [],
   "source": [
    "# [ ] get input of 2 numbers and subtract the largest from the smallest (use an if statement to see which is larger)\n",
    "num = input(\"enter a number\")\n",
    "num_2 = input(\"enter a second number\")\n",
    "if num_1<num_2:\n",
    "    print(int(num) - int(num_2))\n",
    "else:\n",
    "    print(int(num_2) - int(num))\n",
    "# show the answer"
   ]
  },
  {
   "cell_type": "code",
   "execution_count": null,
   "metadata": {},
   "outputs": [],
   "source": [
    "# [ ] Divide a larger number by a smaller number and print the integer part of the result\n",
    "# don't divide by zero! if a zero is input make the result zero\n",
    "# [ ] cast the answer to an integer to cut off the decimals and print the result\n",
    "num = input(\"enter a number\")\n",
    "num_2 = input(\"enter a second number\")\n",
    "if num == \"0\" or num_2 == \"0\":\n",
    "    print(\"0\")\n",
    "elif num < num_2:\n",
    "    print(int(int(num_2)/ int(num)))\n",
    "else:\n",
    "    print(int(int(num) / int(num_2)))"
   ]
  },
  {
   "cell_type": "markdown",
   "metadata": {
    "collapsed": true
   },
   "source": [
    "[Terms of use](http://go.microsoft.com/fwlink/?LinkID=206977) &nbsp; [Privacy & cookies](https://go.microsoft.com/fwlink/?LinkId=521839) &nbsp; © 2017 Microsoft"
   ]
  }
 ],
 "metadata": {
  "anaconda-cloud": {},
  "kernelspec": {
   "display_name": "Python 3 (ipykernel)",
   "language": "python",
   "name": "python3"
  },
  "language_info": {
   "codemirror_mode": {
    "name": "ipython",
    "version": 3
   },
   "file_extension": ".py",
   "mimetype": "text/x-python",
   "name": "python",
   "nbconvert_exporter": "python",
   "pygments_lexer": "ipython3",
   "version": "3.9.12"
  }
 },
 "nbformat": 4,
 "nbformat_minor": 1
}
